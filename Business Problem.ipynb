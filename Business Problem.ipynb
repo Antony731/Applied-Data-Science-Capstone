{
    "cells": [
        {
            "cell_type": "markdown",
            "metadata": {},
            "source": "# Capstone Project - The Battle of Neighborhoods (Week 1)\n\nClearly define a problem or an idea of your choice, where you would need to leverage the Foursquare location data to solve or execute. Remember that data science problems always target an audience and are meant to help a group of stakeholders solve a problem, so make sure that you explicitly describe your audience and why they would care about your problem.\n\nThis submission will eventually become your Introduction/Business Problem section in your final report. So I recommend that you push the report (having your Introduction/Business Problem section only for now) to your Github repository and submit a link to it.\n\n## Problem Statement\n\nThe purpose of this project is to identify a suitable location to open a restaurant in the city, Toronto. Toronto is the capital city of the Canadian province of Ontario. With a recorded population of 2,731,571. It is the most populous city in Canada and the fourth most populous city in North America. The diverse population of Toronto reflects its current and historical role as an important destination for immigrants to Canada. More than 50 percent of residents belong to a visible minority population group, and over 200 distinct ethnic origins are represented among its inhabitants.While the majority of Torontonians speak English as their primary language, over 160 languages are spoken in the city. There are several restaurants in the city of Toronto each belonging to different categories. We have to identify the most suitable location to start a new restaurant using data obtained from Foresquare API.\n\nThis project is aimed at people who wants to start a new restaurant at Toronto. Using data science we can obtain answers to the questions such as which all areas can we open a restaurant, how many competitions are there in that location, how good is the competition. which all places lack restaurants."
        }
    ],
    "metadata": {
        "kernelspec": {
            "display_name": "Python 3.7",
            "language": "python",
            "name": "python3"
        },
        "language_info": {
            "codemirror_mode": {
                "name": "ipython",
                "version": 3
            },
            "file_extension": ".py",
            "mimetype": "text/x-python",
            "name": "python",
            "nbconvert_exporter": "python",
            "pygments_lexer": "ipython3",
            "version": "3.7.10"
        }
    },
    "nbformat": 4,
    "nbformat_minor": 1
}