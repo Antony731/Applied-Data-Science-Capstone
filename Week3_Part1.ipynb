{
    "cells": [
        {
            "cell_type": "code",
            "execution_count": 1,
            "metadata": {},
            "outputs": [],
            "source": "import pandas as pd\nimport requests\nfrom bs4 import BeautifulSoup"
        },
        {
            "cell_type": "code",
            "execution_count": 2,
            "metadata": {},
            "outputs": [],
            "source": "url = \"https://en.wikipedia.org/wiki/List_of_postal_codes_of_Canada:_M\"\nr = requests.get(url)"
        },
        {
            "cell_type": "code",
            "execution_count": 3,
            "metadata": {},
            "outputs": [
                {
                    "data": {
                        "text/plain": "<Response [200]>"
                    },
                    "execution_count": 3,
                    "metadata": {},
                    "output_type": "execute_result"
                }
            ],
            "source": "r"
        },
        {
            "cell_type": "code",
            "execution_count": 4,
            "metadata": {},
            "outputs": [],
            "source": "soup = BeautifulSoup(r.content, 'lxml')"
        },
        {
            "cell_type": "code",
            "execution_count": 5,
            "metadata": {},
            "outputs": [
                {
                    "data": {
                        "text/plain": "<title>List of postal codes of Canada: M - Wikipedia</title>"
                    },
                    "execution_count": 5,
                    "metadata": {},
                    "output_type": "execute_result"
                }
            ],
            "source": "soup.title"
        },
        {
            "cell_type": "code",
            "execution_count": 6,
            "metadata": {},
            "outputs": [
                {
                    "data": {
                        "text/plain": "'\\n\\n\\nList of postal codes of Canada: M - Wikipedia\\n\\n\\n\\n\\n\\n\\n\\n\\n\\n\\n\\n\\n\\n\\n\\n\\n\\n\\n\\n\\n\\n\\n\\n\\n\\n\\n\\n\\n\\n\\n\\nList of postal codes of Canada: M\\n\\nFrom Wikipedia, the free encyclopedia\\n\\n\\n\\nJump to navigation\\nJump to search\\nWikipedia list article\\n\\nThis is a list of postal codes in Canada where the first letter is M. Postal codes beginning with M are located within the city of Toronto in the province of Ontario. Only the first three characters are listed, corresponding to the Forward Sortation Area.\\nCanada Post provides a free postal code look-up tool on its website,[1] via its applications for such smartphones as the iPhone and BlackBerry,[2]  and sells hard-copy directories and CD-ROMs. Many vendors also sell validation tools, which allow customers to properly match addresses and postal codes. Hard-copy directories can also be consulted in all post offices, and some libraries.\\n\\nToronto - 103 FSAs\\nNote: There are no rural FSAs in Toronto, hence no postal codes should start with M0. However, the postal code M0R 8T0 is assigned to an Amazon warehouse in Mississauga, and the postal code M0R 2A2 is used for the Gateway postal facility in Mississauga, suggesting that Canada Post may have reserved the M0 FSA for high volume addresses.\\n\\n\\n\\n\\nM1ANot assigned\\n\\n\\n\\nM2ANot assigned\\n\\n\\n\\nM3ANorth York(Parkwoods)\\n\\n\\n\\nM4ANorth York(Victoria Village)\\n\\n\\n\\nM5ADowntown Toronto(Regent Park / Harbourfront)\\n\\n\\n\\nM6ANorth York(Lawrence Manor / Lawrence Heights)\\n\\n\\n\\nM7AQueen\\'s Park(Ontario Provincial Government)\\n\\n\\n\\nM8ANot assigned\\n\\n\\n\\nM9AEtobicoke(Islington Avenue)\\n\\n\\n\\n\\nM1BScarborough(Malvern / Rouge)\\n\\n\\n\\nM2BNot assigned\\n\\n\\n\\nM3BNorth York(Don Mills)North\\n\\n\\n\\nM4BEast York(Parkview Hill / Woodbine Gardens)\\n\\n\\n\\nM5BDowntown Toronto(Garden District, Ryerson)\\n\\n\\n\\nM6BNorth York(Glencairn)\\n\\n\\n\\nM7BNot assigned\\n\\n\\n\\nM8BNot assigned\\n\\n\\n\\nM9BEtobicoke(West Deane Park / Princess Gardens / Martin Grove / Islington / Cloverdale)\\n\\n\\n\\n\\nM1CScarborough(Rouge Hill / Port Union / Highland Creek)\\n\\n\\n\\nM2CNot assigned\\n\\n\\n\\nM3CNorth York(Don Mills)South(Flemingdon Park)\\n\\n\\n\\nM4CEast York(Woodbine Heights)\\n\\n\\n\\nM5CDowntown Toronto(St. James Town)\\n\\n\\n\\nM6CYork(Humewood-Cedarvale)\\n\\n\\n\\nM7CNot assigned\\n\\n\\n\\nM8CNot assigned\\n\\n\\n\\nM9CEtobicoke(Eringate / Bloordale Gardens / Old Burnhamthorpe / Markland Wood)\\n\\n\\n\\n\\nM1EScarborough(Guildwood / Morningside / West Hill)\\n\\n\\n\\nM2ENot assigned\\n\\n\\n\\nM3ENot assigned\\n\\n\\n\\nM4EEast Toronto(The Beaches)\\n\\n\\n\\nM5EDowntown Toronto(Berczy Park)\\n\\n\\n\\nM6EYork(Caledonia-Fairbanks)\\n\\n\\n\\nM7ENot assigned\\n\\n\\n\\nM8ENot assigned\\n\\n\\n\\nM9ENot assigned\\n\\n\\n\\n\\nM1GScarborough(Woburn)\\n\\n\\n\\nM2GNot assigned\\n\\n\\n\\nM3GNot assigned\\n\\n\\n\\nM4GEast York(Leaside)\\n\\n\\n\\nM5GDowntown Toronto(Central Bay Street)\\n\\n\\n\\nM6GDowntown Toronto(Christie)\\n\\n\\n\\nM7GNot assigned\\n\\n\\n\\nM8GNot assigned\\n\\n\\n\\nM9GNot assigned\\n\\n\\n\\n\\nM1HScarborough(Cedarbrae)\\n\\n\\n\\nM2HNorth York(Hillcrest Village)\\n\\n\\n\\nM3HNorth York(Bathurst Manor / Wilson Heights / Downsview North)\\n\\n\\n\\nM4HEast York(Thorncliffe Park)\\n\\n\\n\\nM5HDowntown Toronto(Richmond / Adelaide / King)\\n\\n\\n\\nM6HWest Toronto(Dufferin / Dovercourt Village)\\n\\n\\n\\nM7HNot assigned\\n\\n\\n\\nM8HNot assigned\\n\\n\\n\\nM9HNot assigned\\n\\n\\n\\n\\nM1JScarborough(Scarborough Village)\\n\\n\\n\\nM2JNorth York(Fairview / Henry Farm / Oriole)\\n\\n\\n\\nM3JNorth York(Northwood Park / York University)\\n\\n\\n\\nM4JEast YorkEast Toronto(The Danforth  East)\\n\\n\\n\\nM5JDowntown Toronto(Harbourfront East / Union Station / Toronto Islands)\\n\\n\\n\\nM6JWest Toronto(Little Portugal / Trinity)\\n\\n\\n\\nM7JNot assigned\\n\\n\\n\\nM8JNot assigned\\n\\n\\n\\nM9JNot assigned\\n\\n\\n\\n\\nM1KScarborough(Kennedy Park / Ionview / East Birchmount Park)\\n\\n\\n\\nM2KNorth York(Bayview Village)\\n\\n\\n\\nM3KNorth York(Downsview)East  (CFB Toronto)\\n\\n\\n\\nM4KEast Toronto(The Danforth West / Riverdale)\\n\\n\\n\\nM5KDowntown Toronto(Toronto Dominion Centre / Design Exchange)\\n\\n\\n\\nM6KWest Toronto(Brockton / Parkdale Village / Exhibition Place)\\n\\n\\n\\nM7KNot assigned\\n\\n\\n\\nM8KNot assigned\\n\\n\\n\\nM9KNot assigned\\n\\n\\n\\n\\nM1LScarborough(Golden Mile / Clairlea / Oakridge)\\n\\n\\n\\nM2LNorth York(York Mills / Silver Hills)\\n\\n\\n\\nM3LNorth York(Downsview)West\\n\\n\\n\\nM4LEast Toronto(India Bazaar / The Beaches West)\\n\\n\\n\\nM5LDowntown Toronto(Commerce Court / Victoria Hotel)\\n\\n\\n\\nM6LNorth York(North Park / Maple Leaf Park / Upwood Park)\\n\\n\\n\\nM7LNot assigned\\n\\n\\n\\nM8LNot assigned\\n\\n\\n\\nM9LNorth York(Humber Summit)\\n\\n\\n\\n\\nM1MScarborough(Cliffside / Cliffcrest / Scarborough Village West)\\n\\n\\n\\nM2MNorth York(Willowdale / Newtonbrook)\\n\\n\\n\\nM3MNorth York(Downsview)Central\\n\\n\\n\\nM4MEast Toronto(Studio District)\\n\\n\\n\\nM5MNorth York(Bedford Park / Lawrence Manor East)\\n\\n\\n\\nM6MYork(Del Ray / Mount Dennis / Keelsdale and Silverthorn)\\n\\n\\n\\nM7MNot assigned\\n\\n\\n\\nM8MNot assigned\\n\\n\\n\\nM9MNorth York(Humberlea / Emery)\\n\\n\\n\\n\\nM1NScarborough(Birch Cliff / Cliffside West)\\n\\n\\n\\nM2NNorth York(Willowdale)South\\n\\n\\n\\nM3NNorth York(Downsview)Northwest\\n\\n\\n\\nM4NCentral Toronto(Lawrence Park)\\n\\n\\n\\nM5NCentral Toronto(Roselawn)\\n\\n\\n\\nM6NYork(Runnymede / The Junction North)\\n\\n\\n\\nM7NNot assigned\\n\\n\\n\\nM8NNot assigned\\n\\n\\n\\nM9NYork(Weston)\\n\\n\\n\\n\\nM1PScarborough(Dorset Park / Wexford Heights / Scarborough Town Centre)\\n\\n\\n\\nM2PNorth York(York Mills West)\\n\\n\\n\\nM3PNot assigned\\n\\n\\n\\nM4PCentral Toronto(Davisville North)\\n\\n\\n\\nM5PCentral Toronto(Forest Hill North & West)\\n\\n\\n\\nM6PWest Toronto(High Park / The Junction South)\\n\\n\\n\\nM7PNot assigned\\n\\n\\n\\nM8PNot assigned\\n\\n\\n\\nM9PEtobicoke(Westmount)\\n\\n\\n\\n\\nM1RScarborough(Wexford / Maryvale)\\n\\n\\n\\nM2RNorth York(Willowdale)West\\n\\n\\n\\nM3RNot assigned\\n\\n\\n\\nM4RCentral Toronto(North Toronto West)\\n\\n\\n\\nM5RCentral Toronto(The Annex / North Midtown / Yorkville)\\n\\n\\n\\nM6RWest Toronto(Parkdale / Roncesvalles)\\n\\n\\n\\nM7RMississaugaCanada Post Gateway Processing Centre(Enclave of L4W)\\n\\n\\n\\nM8RNot assigned\\n\\n\\n\\nM9REtobicoke(Kingsview Village / St. Phillips / Martin Grove Gardens / Richview Gardens)\\n\\n\\n\\n\\nM1SScarborough(Agincourt) \\n\\n\\n\\nM2SNot assigned\\n\\n\\n\\nM3SNot assigned\\n\\n\\n\\nM4SCentral Toronto(Davisville)\\n\\n\\n\\nM5SDowntown Toronto(University of Toronto / Harbord)\\n\\n\\n\\nM6SWest Toronto(Runnymede / Swansea)\\n\\n\\n\\nM7SNot assigned\\n\\n\\n\\nM8SNot assigned\\n\\n\\n\\nM9SNot assigned\\n\\n\\n\\n\\nM1TScarborough(Clarks Corners / Tam O\\'Shanter / Sullivan)\\n\\n\\n\\nM2TNot assigned\\n\\n\\n\\nM3TNot assigned\\n\\n\\n\\nM4TCentral Toronto(Moore Park / Summerhill East)\\n\\n\\n\\nM5TDowntown Toronto(Kensington Market / Chinatown / Grange Park)\\n\\n\\n\\nM6TNot assigned\\n\\n\\n\\nM7TNot assigned\\n\\n\\n\\nM8TNot assigned\\n\\n\\n\\nM9TNot assigned\\n\\n\\n\\n\\nM1VScarborough(Milliken / Agincourt North / Steeles East / L\\'Amoreaux East)\\n\\n\\n\\nM2VNot assigned\\n\\n\\n\\nM3VNot assigned\\n\\n\\n\\nM4VCentral Toronto(Summerhill West / Rathnelly / South Hill / Forest Hill SE / Deer Park)\\n\\n\\n\\nM5VDowntown Toronto(CN Tower / King and Spadina / Railway Lands / Harbourfront West / Bathurst Quay / South Niagara / Island airport)\\n\\n\\n\\nM6VNot assigned\\n\\n\\n\\nM7VNot assigned\\n\\n\\n\\nM8VEtobicoke(New Toronto / Mimico South / Humber Bay Shores)\\n\\n\\n\\nM9VEtobicoke(South Steeles / Silverstone / Humbergate / Jamestown / Mount Olive / Beaumond Heights / Thistletown / Albion Gardens)\\n\\n\\n\\n\\nM1WScarborough(Steeles West / L\\'Amoreaux West)\\n\\n\\n\\nM2WNot assigned\\n\\n\\n\\nM3WNot assigned\\n\\n\\n\\nM4WDowntown Toronto(Rosedale)\\n\\n\\n\\nM5WDowntown TorontoStn A PO Boxes25 The Esplanade(Enclave of M5E)\\n\\n\\n\\nM6WNot assigned\\n\\n\\n\\nM7WNot assigned\\n\\n\\n\\nM8WEtobicoke(Alderwood / Long Branch)\\n\\n\\n\\nM9WEtobicokeNorthwest(Clairville / Humberwood / Woodbine Downs / West Humber / Kipling Heights / Rexdale / Elms / Tandridge / Old Rexdale)\\n\\n\\n\\n\\nM1XScarborough(Upper Rouge)\\n\\n\\n\\nM2XNot assigned\\n\\n\\n\\nM3XNot assigned\\n\\n\\n\\nM4XDowntown Toronto(St. James Town / Cabbagetown)\\n\\n\\n\\nM5XDowntown Toronto(First Canadian Place / Underground city)\\n\\n\\n\\nM6XNot assigned\\n\\n\\n\\nM7XNot assigned\\n\\n\\n\\nM8XEtobicoke(The Kingsway / Montgomery Road / Old Mill North)\\n\\n\\n\\nM9XNot assigned\\n\\n\\n\\n\\nM1YNot assigned\\n\\n\\n\\nM2YNot assigned\\n\\n\\n\\nM3YNot assigned\\n\\n\\n\\nM4YDowntown Toronto(Church and Wellesley)\\n\\n\\n\\nM5YNot assigned\\n\\n\\n\\nM6YNot assigned\\n\\n\\n\\nM7YEast TorontoBusiness reply mail Processing Centre969 Eastern(Enclave of M4L)\\n\\n\\n\\nM8YEtobicoke(Old Mill South / King\\'s Mill Park / Sunnylea / Humber Bay / Mimico NE / The Queensway East / Royal York South East / Kingsway Park South East)\\n\\n\\n\\nM9YNot assigned\\n\\n\\n\\n\\nM1ZNot assigned\\n\\n\\n\\nM2ZNot assigned\\n\\n\\n\\nM3ZNot assigned\\n\\n\\n\\nM4ZNot assigned\\n\\n\\n\\nM5ZNot assigned\\n\\n\\n\\nM6ZNot assigned\\n\\n\\n\\nM7ZNot assigned\\n\\n\\n\\nM8ZEtobicoke(Mimico NW / The Queensway West / South of Bloor / Kingsway Park South West / Royal York South West)\\n\\n\\n\\nM9ZNot assigned\\n\\n\\nMost populated FSAs[3]\\nM1B, 65,129\\nM2N, 60,124\\nM1V, 55,250\\nM9V, 55,159\\nM2J, 54,391\\nLeast populated FSAs[3]\\nM5K, 5\\nM5L, 5\\nM5W, 5\\nM5X, 5\\nM7A, 5\\nReferences\\n\\n^ \\nCanada Post. \"Canada Post - Find a Postal Code\". Retrieved 9 November 2008.\\n\\n^ \"Mobile Apps\". Canada Post. Archived from the original on 2011-05-19.\\n\\n^ a b \"2006 Census of Population\". 15 October 2008.\\n\\n\\n\\n\\n\\n\\nCanadian postal codes\\n\\n\\n\\n\\n\\n\\n\\nNL\\n\\nNS\\n\\nPE\\n\\nNB\\n\\nQC\\n\\nON\\n\\nMB\\n\\nSK\\n\\nAB\\n\\nBC\\n\\nNU/NT\\n\\nYT\\n\\n\\nA\\n\\nB\\n\\nC\\n\\nE\\n\\nG\\n\\nH\\n\\nJ\\n\\nK\\n\\nL\\n\\nM\\n\\nN\\n\\nP\\n\\nR\\n\\nS\\n\\nT\\n\\nV\\n\\nX\\n\\nY\\n\\n\\n\\n\\n\\n\\nRetrieved from \"https://en.wikipedia.org/w/index.php?title=List_of_postal_codes_of_Canada:_M&oldid=1019189119\"\\nCategories: Communications in OntarioPostal codes in CanadaTorontoOntario-related listsHidden categories: Articles with short descriptionShort description is different from WikidataWikipedia semi-protected pages\\n\\n\\n\\n\\n\\n\\nNavigation menu\\n\\n\\n\\nPersonal tools\\n\\n\\nNot logged inTalkContributionsCreate accountLog in\\n\\n\\n\\n\\n\\nNamespaces\\n\\n\\nArticleTalk\\n\\n\\n\\n\\n\\nVariants\\n\\n\\n\\n\\n\\n\\n\\n\\n\\nViews\\n\\n\\nReadView sourceView history\\n\\n\\n\\n\\n\\nMore\\n\\n\\n\\n\\n\\n\\n\\nSearch\\n\\n\\n\\n\\n\\n\\n\\n\\n\\n\\n\\n\\n\\n\\n\\n\\n\\n\\nNavigation\\n\\n\\nMain pageContentsCurrent eventsRandom articleAbout WikipediaContact usDonate\\n\\n\\n\\n\\nContribute\\n\\n\\nHelpLearn to editCommunity portalRecent changesUpload file\\n\\n\\n\\n\\nTools\\n\\n\\nWhat links hereRelated changesUpload fileSpecial pagesPermanent linkPage informationCite this pageWikidata item\\n\\n\\n\\n\\nPrint/export\\n\\n\\nDownload as PDFPrintable version\\n\\n\\n\\n\\nLanguages\\n\\n\\nFran\u00e7ais\\nEdit links\\n\\n\\n\\n\\n\\n\\n This page was last edited on 22 April 2021, at 00:01\\xa0(UTC).\\nText is available under the Creative Commons Attribution-ShareAlike License;\\nadditional terms may apply.  By using this site, you agree to the Terms of Use and Privacy Policy. Wikipedia\u00ae is a registered trademark of the Wikimedia Foundation, Inc., a non-profit organization.\\n\\n\\nPrivacy policy\\nAbout Wikipedia\\nDisclaimers\\nContact Wikipedia\\nMobile view\\nDevelopers\\nStatistics\\nCookie statement\\n\\n\\n\\n\\n\\n\\n\\n\\n\\n'"
                    },
                    "execution_count": 6,
                    "metadata": {},
                    "output_type": "execute_result"
                }
            ],
            "source": "soup.get_text()"
        },
        {
            "cell_type": "code",
            "execution_count": 7,
            "metadata": {},
            "outputs": [],
            "source": "table_contents=[]\ntable=soup.find('table')\nfor row in table.findAll('td'):\n    cell = {}\n    if row.span.text=='Not assigned':\n        pass\n    else:\n        cell['PostalCode'] = row.p.text[:3]\n        cell['Borough'] = (row.span.text).split('(')[0]\n        cell['Neighborhood'] = (((((row.span.text).split('(')[1]).strip(')')).replace(' /',',')).replace(')',' ')).strip(' ')\n        table_contents.append(cell)\n\n# print(table_contents)\ndf=pd.DataFrame(table_contents)\ndf['Borough']=df['Borough'].replace({'Downtown TorontoStn A PO Boxes25 The Esplanade':'Downtown Toronto Stn A',\n                                             'East TorontoBusiness reply mail Processing Centre969 Eastern':'East Toronto Business',\n                                             'EtobicokeNorthwest':'Etobicoke Northwest','East YorkEast Toronto':'East York/East Toronto',\n                                             'MississaugaCanada Post Gateway Processing Centre':'Mississauga'})"
        },
        {
            "cell_type": "code",
            "execution_count": 8,
            "metadata": {},
            "outputs": [
                {
                    "data": {
                        "text/html": "<div>\n<style scoped>\n    .dataframe tbody tr th:only-of-type {\n        vertical-align: middle;\n    }\n\n    .dataframe tbody tr th {\n        vertical-align: top;\n    }\n\n    .dataframe thead th {\n        text-align: right;\n    }\n</style>\n<table border=\"1\" class=\"dataframe\">\n  <thead>\n    <tr style=\"text-align: right;\">\n      <th></th>\n      <th>PostalCode</th>\n      <th>Borough</th>\n      <th>Neighborhood</th>\n    </tr>\n  </thead>\n  <tbody>\n    <tr>\n      <th>0</th>\n      <td>M3A</td>\n      <td>North York</td>\n      <td>Parkwoods</td>\n    </tr>\n    <tr>\n      <th>1</th>\n      <td>M4A</td>\n      <td>North York</td>\n      <td>Victoria Village</td>\n    </tr>\n    <tr>\n      <th>2</th>\n      <td>M5A</td>\n      <td>Downtown Toronto</td>\n      <td>Regent Park, Harbourfront</td>\n    </tr>\n    <tr>\n      <th>3</th>\n      <td>M6A</td>\n      <td>North York</td>\n      <td>Lawrence Manor, Lawrence Heights</td>\n    </tr>\n    <tr>\n      <th>4</th>\n      <td>M7A</td>\n      <td>Queen's Park</td>\n      <td>Ontario Provincial Government</td>\n    </tr>\n  </tbody>\n</table>\n</div>",
                        "text/plain": "  PostalCode           Borough                      Neighborhood\n0        M3A        North York                         Parkwoods\n1        M4A        North York                  Victoria Village\n2        M5A  Downtown Toronto         Regent Park, Harbourfront\n3        M6A        North York  Lawrence Manor, Lawrence Heights\n4        M7A      Queen's Park     Ontario Provincial Government"
                    },
                    "execution_count": 8,
                    "metadata": {},
                    "output_type": "execute_result"
                }
            ],
            "source": "df.head()"
        },
        {
            "cell_type": "code",
            "execution_count": 9,
            "metadata": {},
            "outputs": [
                {
                    "data": {
                        "text/html": "<div>\n<style scoped>\n    .dataframe tbody tr th:only-of-type {\n        vertical-align: middle;\n    }\n\n    .dataframe tbody tr th {\n        vertical-align: top;\n    }\n\n    .dataframe thead th {\n        text-align: right;\n    }\n</style>\n<table border=\"1\" class=\"dataframe\">\n  <thead>\n    <tr style=\"text-align: right;\">\n      <th></th>\n      <th></th>\n      <th>Neighborhood</th>\n    </tr>\n    <tr>\n      <th>PostalCode</th>\n      <th>Borough</th>\n      <th></th>\n    </tr>\n  </thead>\n  <tbody>\n    <tr>\n      <th>M3A</th>\n      <th>North York</th>\n      <td>Parkwoods</td>\n    </tr>\n    <tr>\n      <th>M4A</th>\n      <th>North York</th>\n      <td>Victoria Village</td>\n    </tr>\n    <tr>\n      <th>M5A</th>\n      <th>Downtown Toronto</th>\n      <td>Regent Park, Harbourfront</td>\n    </tr>\n    <tr>\n      <th>M6A</th>\n      <th>North York</th>\n      <td>Lawrence Manor, Lawrence Heights</td>\n    </tr>\n    <tr>\n      <th>M7A</th>\n      <th>Queen's Park</th>\n      <td>Ontario Provincial Government</td>\n    </tr>\n  </tbody>\n</table>\n</div>",
                        "text/plain": "                                                 Neighborhood\nPostalCode Borough                                           \nM3A        North York                               Parkwoods\nM4A        North York                        Victoria Village\nM5A        Downtown Toronto         Regent Park, Harbourfront\nM6A        North York        Lawrence Manor, Lawrence Heights\nM7A        Queen's Park         Ontario Provincial Government"
                    },
                    "execution_count": 9,
                    "metadata": {},
                    "output_type": "execute_result"
                }
            ],
            "source": "#Rows with be same postalcode will be combined into one row with the neighborhoods separated with a comma\n\nresult = df.groupby(['PostalCode','Borough'], sort=False).agg( ', '.join)\nresult.head()"
        },
        {
            "cell_type": "code",
            "execution_count": 10,
            "metadata": {},
            "outputs": [
                {
                    "data": {
                        "text/html": "<div>\n<style scoped>\n    .dataframe tbody tr th:only-of-type {\n        vertical-align: middle;\n    }\n\n    .dataframe tbody tr th {\n        vertical-align: top;\n    }\n\n    .dataframe thead th {\n        text-align: right;\n    }\n</style>\n<table border=\"1\" class=\"dataframe\">\n  <thead>\n    <tr style=\"text-align: right;\">\n      <th></th>\n      <th>PostalCode</th>\n      <th>Borough</th>\n      <th>Neighborhood</th>\n    </tr>\n  </thead>\n  <tbody>\n    <tr>\n      <th>0</th>\n      <td>M3A</td>\n      <td>North York</td>\n      <td>Parkwoods</td>\n    </tr>\n    <tr>\n      <th>1</th>\n      <td>M4A</td>\n      <td>North York</td>\n      <td>Victoria Village</td>\n    </tr>\n    <tr>\n      <th>2</th>\n      <td>M5A</td>\n      <td>Downtown Toronto</td>\n      <td>Regent Park, Harbourfront</td>\n    </tr>\n    <tr>\n      <th>3</th>\n      <td>M6A</td>\n      <td>North York</td>\n      <td>Lawrence Manor, Lawrence Heights</td>\n    </tr>\n    <tr>\n      <th>4</th>\n      <td>M7A</td>\n      <td>Queen's Park</td>\n      <td>Ontario Provincial Government</td>\n    </tr>\n    <tr>\n      <th>5</th>\n      <td>M9A</td>\n      <td>Etobicoke</td>\n      <td>Islington Avenue</td>\n    </tr>\n    <tr>\n      <th>6</th>\n      <td>M1B</td>\n      <td>Scarborough</td>\n      <td>Malvern, Rouge</td>\n    </tr>\n    <tr>\n      <th>7</th>\n      <td>M3B</td>\n      <td>North York</td>\n      <td>Don Mills North</td>\n    </tr>\n    <tr>\n      <th>8</th>\n      <td>M4B</td>\n      <td>East York</td>\n      <td>Parkview Hill, Woodbine Gardens</td>\n    </tr>\n    <tr>\n      <th>9</th>\n      <td>M5B</td>\n      <td>Downtown Toronto</td>\n      <td>Garden District, Ryerson</td>\n    </tr>\n    <tr>\n      <th>10</th>\n      <td>M6B</td>\n      <td>North York</td>\n      <td>Glencairn</td>\n    </tr>\n    <tr>\n      <th>11</th>\n      <td>M9B</td>\n      <td>Etobicoke</td>\n      <td>West Deane Park, Princess Gardens, Martin Grov...</td>\n    </tr>\n    <tr>\n      <th>12</th>\n      <td>M1C</td>\n      <td>Scarborough</td>\n      <td>Rouge Hill, Port Union, Highland Creek</td>\n    </tr>\n    <tr>\n      <th>13</th>\n      <td>M3C</td>\n      <td>North York</td>\n      <td>Don Mills South</td>\n    </tr>\n    <tr>\n      <th>14</th>\n      <td>M4C</td>\n      <td>East York</td>\n      <td>Woodbine Heights</td>\n    </tr>\n  </tbody>\n</table>\n</div>",
                        "text/plain": "   PostalCode           Borough  \\\n0         M3A        North York   \n1         M4A        North York   \n2         M5A  Downtown Toronto   \n3         M6A        North York   \n4         M7A      Queen's Park   \n5         M9A         Etobicoke   \n6         M1B       Scarborough   \n7         M3B        North York   \n8         M4B         East York   \n9         M5B  Downtown Toronto   \n10        M6B        North York   \n11        M9B         Etobicoke   \n12        M1C       Scarborough   \n13        M3C        North York   \n14        M4C         East York   \n\n                                         Neighborhood  \n0                                           Parkwoods  \n1                                    Victoria Village  \n2                           Regent Park, Harbourfront  \n3                    Lawrence Manor, Lawrence Heights  \n4                       Ontario Provincial Government  \n5                                    Islington Avenue  \n6                                      Malvern, Rouge  \n7                                     Don Mills North  \n8                     Parkview Hill, Woodbine Gardens  \n9                            Garden District, Ryerson  \n10                                          Glencairn  \n11  West Deane Park, Princess Gardens, Martin Grov...  \n12             Rouge Hill, Port Union, Highland Creek  \n13                                    Don Mills South  \n14                                   Woodbine Heights  "
                    },
                    "execution_count": 10,
                    "metadata": {},
                    "output_type": "execute_result"
                }
            ],
            "source": "df_new=result.reset_index()\ndf_new.head(15)"
        },
        {
            "cell_type": "code",
            "execution_count": 11,
            "metadata": {},
            "outputs": [
                {
                    "data": {
                        "text/plain": "(103, 3)"
                    },
                    "execution_count": 11,
                    "metadata": {},
                    "output_type": "execute_result"
                }
            ],
            "source": "df_new.shape"
        }
    ],
    "metadata": {
        "kernelspec": {
            "display_name": "Python 3.7",
            "language": "python",
            "name": "python3"
        },
        "language_info": {
            "codemirror_mode": {
                "name": "ipython",
                "version": 3
            },
            "file_extension": ".py",
            "mimetype": "text/x-python",
            "name": "python",
            "nbconvert_exporter": "python",
            "pygments_lexer": "ipython3",
            "version": "3.7.10"
        }
    },
    "nbformat": 4,
    "nbformat_minor": 1
}