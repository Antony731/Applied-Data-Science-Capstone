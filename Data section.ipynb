{
    "cells": [
        {
            "cell_type": "markdown",
            "metadata": {},
            "source": "# Capstone Project - The Battle of Neighborhoods (Week 1)\n\nDescribe the data that you will be using to solve the problem or execute your idea. Remember that you will need to use the Foursquare location data to solve the problem or execute your idea. You can absolutely use other datasets in combination with the Foursquare location data. So make sure that you provide adequate explanation and discussion, with examples, of the data that you will be using, even if it is only Foursquare location data.\n\n## What we need\n\nWe need to explore the historic data of the retaurants that are working in Toronto city. We can compare the ratings of the restaurants to tell which are the top restaurants in the city. We have to identify the location and places with top restaurants. The following are the data we have to collect:\n\n(1) Neighborhood\n(2) Borough\n(3) Latitude\n(4) Longitude\n(5) Restaurant Name\n(6) Restaurant Rating\n\n## Where to get the data\n\nThe data will be scraped from a wikipedia page which contains Neighborhood details of cities in Canada.\nWeb page for data collection: https://en.wikipedia.org/wiki/List_of_postal_codes_of_Canada:_M\n\nWe can use Foresqaure API to get location details such as lattitude and longitude of the places\n"
        }
    ],
    "metadata": {
        "kernelspec": {
            "display_name": "Python 3.7",
            "language": "python",
            "name": "python3"
        },
        "language_info": {
            "codemirror_mode": {
                "name": "ipython",
                "version": 3
            },
            "file_extension": ".py",
            "mimetype": "text/x-python",
            "name": "python",
            "nbconvert_exporter": "python",
            "pygments_lexer": "ipython3",
            "version": "3.7.10"
        }
    },
    "nbformat": 4,
    "nbformat_minor": 1
}